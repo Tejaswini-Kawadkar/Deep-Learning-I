{
 "cells": [
  {
   "cell_type": "markdown",
   "id": "7374fe5f",
   "metadata": {},
   "source": [
    "## Logic Gates"
   ]
  },
  {
   "cell_type": "markdown",
   "id": "7dfdfb7d",
   "metadata": {},
   "source": [
    "### NOR Gate"
   ]
  },
  {
   "cell_type": "code",
   "execution_count": 1,
   "id": "d09f2a87",
   "metadata": {},
   "outputs": [
    {
     "name": "stdout",
     "output_type": "stream",
     "text": [
      "NOR(0, 1) = 0\n",
      "NOR(1, 1) = 0\n",
      "NOR(0, 0) = 1\n",
      "NOR(1, 0) = 0\n"
     ]
    }
   ],
   "source": [
    "import numpy as np \n",
    "\n",
    "def unitStep(v): \n",
    "    if v < 0: \n",
    "        return 1\n",
    "    else: \n",
    "        return 0\n",
    "\n",
    "def perceptronModel(x, w, b): \n",
    "    v = np.dot(w, x) + b \n",
    "    y = unitStep(v) \n",
    "    return y \n",
    "\n",
    "# NOR Logic Function \n",
    "# w1 = 1, w2 = 1, b = -1 \n",
    "def NOR_logicFunction(x): \n",
    "    w = np.array([1, 1]) \n",
    "    b = -1\n",
    "    return perceptronModel(x, w, b) \n",
    " \n",
    "test1 = np.array([0, 1])\n",
    "test2 = np.array([1, 1])\n",
    "test3 = np.array([0, 0])\n",
    "test4 = np.array([1, 0])\n",
    "print(\"NOR({}, {}) = {}\".format(0, 1, NOR_logicFunction(test1))) \n",
    "print(\"NOR({}, {}) = {}\".format(1, 1, NOR_logicFunction(test2))) \n",
    "print(\"NOR({}, {}) = {}\".format(0, 0, NOR_logicFunction(test3))) \n",
    "print(\"NOR({}, {}) = {}\".format(1, 0, NOR_logicFunction(test4))) "
   ]
  },
  {
   "cell_type": "markdown",
   "id": "be3064c6",
   "metadata": {},
   "source": [
    "### NAND Gate"
   ]
  },
  {
   "cell_type": "code",
   "execution_count": 2,
   "id": "fdedca27",
   "metadata": {},
   "outputs": [
    {
     "name": "stdout",
     "output_type": "stream",
     "text": [
      "NAND(1, 1) = 0\n",
      "NAND(0, 1) = 1\n",
      "NAND(1, 0) = 1\n",
      "NAND(0, 0) = 1\n"
     ]
    }
   ],
   "source": [
    "def unitStep(v):\n",
    "    if(v<=0):\n",
    "        return 1\n",
    "    else:\n",
    "        return 0\n",
    "    \n",
    "def perceptronModel(x, w, b):\n",
    "    v = np.dot(w, x) + b\n",
    "    y = unitStep(v)\n",
    "    return y\n",
    "\n",
    "def NAND_logicFunction(x):\n",
    "    w = np.array([1, 1])\n",
    "    b = -1\n",
    "    return perceptronModel(x, w, b)\n",
    "\n",
    "test1 = np.array([1, 1])\n",
    "test2 = np.array([0, 1])\n",
    "test3 = np.array([1, 0])\n",
    "test4 = np.array([0, 0])\n",
    "print(\"NAND({}, {}) = {}\".format(1, 1, NAND_logicFunction(test1)))\n",
    "print(\"NAND({}, {}) = {}\".format(0, 1, NAND_logicFunction(test2)))\n",
    "print(\"NAND({}, {}) = {}\".format(1, 0, NAND_logicFunction(test3)))\n",
    "print(\"NAND({}, {}) = {}\".format(0, 0, NAND_logicFunction(test4)))"
   ]
  },
  {
   "cell_type": "markdown",
   "id": "e2939b1d",
   "metadata": {},
   "source": [
    "### XOR Gate"
   ]
  },
  {
   "cell_type": "code",
   "execution_count": 3,
   "id": "85d47120",
   "metadata": {},
   "outputs": [
    {
     "name": "stdout",
     "output_type": "stream",
     "text": [
      "XOR(1, 1) = 0\n",
      "XOR(0, 1) = 1\n",
      "XOR(1, 0) = 1\n",
      "XOR(0, 0) = 0\n"
     ]
    }
   ],
   "source": [
    "def unitStep(v):\n",
    "    if(v==0):\n",
    "        return 1\n",
    "    else:\n",
    "        return 0\n",
    "    \n",
    "def perceptronModel(x, w, b):\n",
    "    v = np.dot(w, x) + b\n",
    "    y = unitStep(v)\n",
    "    return y\n",
    "\n",
    "def XOR_logicFunction(x):\n",
    "    w = np.array([1, 1])\n",
    "    b = -1\n",
    "    return perceptronModel(x, w, b)\n",
    "\n",
    "test1 = np.array([1, 1])\n",
    "test2 = np.array([0, 1])\n",
    "test3 = np.array([1, 0])\n",
    "test4 = np.array([0, 0])\n",
    "print(\"XOR({}, {}) = {}\".format(1, 1, XOR_logicFunction(test1)))\n",
    "print(\"XOR({}, {}) = {}\".format(0, 1, XOR_logicFunction(test2)))\n",
    "print(\"XOR({}, {}) = {}\".format(1, 0, XOR_logicFunction(test3)))\n",
    "print(\"XOR({}, {}) = {}\".format(0, 0, XOR_logicFunction(test4)))"
   ]
  },
  {
   "cell_type": "markdown",
   "id": "a3edad1e",
   "metadata": {},
   "source": [
    "### AND Gate"
   ]
  },
  {
   "cell_type": "code",
   "execution_count": 4,
   "id": "82193fc0",
   "metadata": {},
   "outputs": [
    {
     "name": "stdout",
     "output_type": "stream",
     "text": [
      "AND(0, 1) = 0\n",
      "AND(1, 1) = 1\n",
      "AND(0, 0) = 0\n",
      "AND(1, 0) = 0\n"
     ]
    }
   ],
   "source": [
    "import numpy as np \n",
    "\n",
    "def unitStep(v): \n",
    "    if v >= 0: \n",
    "        return 1\n",
    "    else: \n",
    "        return 0\n",
    "\n",
    "def perceptronModel(x, w, b): \n",
    "    v = np.dot(w, x) + b \n",
    "    y = unitStep(v) \n",
    "    return y \n",
    "\n",
    "# AND Logic Function \n",
    "# w1 = 1, w2 = 1, b = -1.5 \n",
    "def AND_logicFunction(x): \n",
    "    w = np.array([1, 1]) \n",
    "    b = -1.5\n",
    "    return perceptronModel(x, w, b) \n",
    " \n",
    "test1 = np.array([0, 1]) \n",
    "test2 = np.array([1, 1]) \n",
    "test3 = np.array([0, 0]) \n",
    "test4 = np.array([1, 0]) \n",
    "\n",
    "print(\"AND({}, {}) = {}\".format(0, 1, AND_logicFunction(test1))) \n",
    "print(\"AND({}, {}) = {}\".format(1, 1, AND_logicFunction(test2))) \n",
    "print(\"AND({}, {}) = {}\".format(0, 0, AND_logicFunction(test3))) \n",
    "print(\"AND({}, {}) = {}\".format(1, 0, AND_logicFunction(test4))) "
   ]
  },
  {
   "cell_type": "markdown",
   "id": "ed00e140",
   "metadata": {},
   "source": [
    "### OR Gate"
   ]
  },
  {
   "cell_type": "code",
   "execution_count": 5,
   "id": "bc91e7d1",
   "metadata": {},
   "outputs": [
    {
     "name": "stdout",
     "output_type": "stream",
     "text": [
      "OR(0, 1) = 1\n",
      "OR(1, 1) = 1\n",
      "OR(0, 0) = 0\n",
      "OR(1, 0) = 1\n"
     ]
    }
   ],
   "source": [
    "import numpy as np \n",
    "\n",
    "def unitStep(v): \n",
    "    if v >= 0: \n",
    "        return 1\n",
    "    else: \n",
    "        return 0\n",
    "\n",
    "def perceptronModel(x, w, b): \n",
    "    v = np.dot(w, x) + b \n",
    "    y = unitStep(v) \n",
    "    return y \n",
    "\n",
    "def OR_logicFunction(x): \n",
    "    w = np.array([1, 1]) \n",
    "    b = -1\n",
    "    return perceptronModel(x, w, b) \n",
    " \n",
    "test1 = np.array([0, 1])\n",
    "test2 = np.array([1, 1])\n",
    "test3 = np.array([0, 0])\n",
    "test4 = np.array([1, 0])\n",
    "print(\"OR({}, {}) = {}\".format(0, 1, OR_logicFunction(test1))) \n",
    "print(\"OR({}, {}) = {}\".format(1, 1, OR_logicFunction(test2))) \n",
    "print(\"OR({}, {}) = {}\".format(0, 0, OR_logicFunction(test3))) \n",
    "print(\"OR({}, {}) = {}\".format(1, 0, OR_logicFunction(test4))) "
   ]
  },
  {
   "cell_type": "markdown",
   "id": "1ae7e76c",
   "metadata": {},
   "source": [
    "### NOT Gate"
   ]
  },
  {
   "cell_type": "code",
   "execution_count": 6,
   "id": "cad60693",
   "metadata": {},
   "outputs": [
    {
     "name": "stdout",
     "output_type": "stream",
     "text": [
      "NOT(1) = 0\n",
      "NOT(0) = 1\n"
     ]
    }
   ],
   "source": [
    "def unitStep(v):\n",
    "    if(v<0):\n",
    "        return 1\n",
    "    else:\n",
    "        return 0\n",
    "    \n",
    "def perceptronModel(x, w, b):\n",
    "    v = np.dot(w, x) + b\n",
    "    y = unitStep(v)\n",
    "    return y\n",
    "\n",
    "def NOT_logicFunction(x):\n",
    "    w = np.array([1])\n",
    "    b = -1\n",
    "    return perceptronModel(x, w, b)\n",
    "\n",
    "test1 = np.array([1])\n",
    "test2 = np.array([0])\n",
    "print(\"NOT({}) = {}\".format(1, NOT_logicFunction(test1)))\n",
    "print(\"NOT({}) = {}\".format(0, NOT_logicFunction(test2)))"
   ]
  },
  {
   "cell_type": "markdown",
   "id": "235fd09a",
   "metadata": {},
   "source": [
    "### Binary Classification 1"
   ]
  },
  {
   "cell_type": "code",
   "execution_count": 7,
   "id": "6ca69b3f",
   "metadata": {},
   "outputs": [],
   "source": [
    "points = {'P0': np.array([-1, -1, -1]), 'P1': np.array([-1, -1, 1]), 'P2': np.array([-1, 1, -1]),\n",
    "          'P3':np.array([-1, 1, 1]), 'P4': np.array([1, -1, -1]), 'P5': np.array([1, -1, 1]),\n",
    "          'P6': np.array([1, 1, -1]), 'P7': np.array([1, 1, 1])}"
   ]
  },
  {
   "cell_type": "code",
   "execution_count": 8,
   "id": "08cee4bf",
   "metadata": {},
   "outputs": [
    {
     "name": "stdout",
     "output_type": "stream",
     "text": [
      "[0. 0. 0.]\n"
     ]
    }
   ],
   "source": [
    "C1 = ['P7']\n",
    "C2 =['P0', 'P1', 'P2', 'P3', 'P4', 'P5', 'P6']\n",
    "\n",
    "weights = np.zeros(len(points['P0']))\n",
    "bias = 0\n",
    "print(weights)"
   ]
  },
  {
   "cell_type": "code",
   "execution_count": 9,
   "id": "9060ec0c",
   "metadata": {},
   "outputs": [
    {
     "name": "stdout",
     "output_type": "stream",
     "text": [
      "[0. 0. 0.]\n"
     ]
    }
   ],
   "source": [
    "C1 = ['P7']\n",
    "C2 =['P0', 'P1', 'P2', 'P3', 'P4', 'P5', 'P6']\n",
    "\n",
    "weights = np.zeros(len(points['P7']))\n",
    "bias = 0\n",
    "print(weights)"
   ]
  },
  {
   "cell_type": "code",
   "execution_count": 10,
   "id": "26e4af48",
   "metadata": {},
   "outputs": [],
   "source": [
    "learning_rate = 1\n",
    "epochs = 1000"
   ]
  },
  {
   "cell_type": "code",
   "execution_count": 11,
   "id": "da5b8ee1",
   "metadata": {},
   "outputs": [],
   "source": [
    "for epoch in range(epochs):\n",
    "    for point in C2:\n",
    "        x = points[point]\n",
    "        y = 1\n",
    "        \n",
    "        summation = np.dot(weights, x) + bias\n",
    "        \n",
    "        if summation<=0:\n",
    "            weights += learning_rate * x\n",
    "            bias += learning_rate"
   ]
  },
  {
   "cell_type": "code",
   "execution_count": 12,
   "id": "aa4a4cd0",
   "metadata": {},
   "outputs": [
    {
     "data": {
      "text/plain": [
       "array([-1., -1., -1.])"
      ]
     },
     "execution_count": 12,
     "metadata": {},
     "output_type": "execute_result"
    }
   ],
   "source": [
    "weights"
   ]
  },
  {
   "cell_type": "code",
   "execution_count": 13,
   "id": "2d038d5a",
   "metadata": {},
   "outputs": [
    {
     "data": {
      "text/plain": [
       "3"
      ]
     },
     "execution_count": 13,
     "metadata": {},
     "output_type": "execute_result"
    }
   ],
   "source": [
    "bias"
   ]
  },
  {
   "cell_type": "code",
   "execution_count": 14,
   "id": "f7a57b21",
   "metadata": {},
   "outputs": [],
   "source": [
    "new_point = np.array([1, 1, 1])\n",
    "summation = np.dot(weights, new_point) + bias"
   ]
  },
  {
   "cell_type": "code",
   "execution_count": 15,
   "id": "30e707fd",
   "metadata": {},
   "outputs": [
    {
     "name": "stdout",
     "output_type": "stream",
     "text": [
      "The new point [1 1 1] belongs to class C1\n"
     ]
    }
   ],
   "source": [
    "if(summation>0):\n",
    "    print(f'The new point {new_point} belongs to class C2')\n",
    "else:\n",
    "     print(f'The new point {new_point} belongs to class C1')"
   ]
  },
  {
   "cell_type": "code",
   "execution_count": 16,
   "id": "81a68438",
   "metadata": {},
   "outputs": [],
   "source": [
    "new_point = np.array([1, -1, 1])\n",
    "summation = np.dot(weights, new_point) + bias"
   ]
  },
  {
   "cell_type": "code",
   "execution_count": 17,
   "id": "74793154",
   "metadata": {},
   "outputs": [
    {
     "name": "stdout",
     "output_type": "stream",
     "text": [
      "The new point [ 1 -1  1] belongs to class C2\n"
     ]
    }
   ],
   "source": [
    "if(summation>0):\n",
    "    print(f'The new point {new_point} belongs to class C2')\n",
    "else:\n",
    "     print(f'The new point {new_point} belongs to class C1')"
   ]
  },
  {
   "cell_type": "markdown",
   "id": "d35758c4",
   "metadata": {},
   "source": [
    "### Binary Classification 2"
   ]
  },
  {
   "cell_type": "code",
   "execution_count": 18,
   "id": "54c305fc",
   "metadata": {},
   "outputs": [
    {
     "name": "stdout",
     "output_type": "stream",
     "text": [
      "[0. 0. 0.]\n",
      "[-1. -1. -1.]\n",
      "[-2.  0.  0.]\n",
      "The binary classification problem is linearly separable.\n"
     ]
    }
   ],
   "source": [
    "def is_linearly_separable(points1):\n",
    "    labels = [1, 1, 1, 1, -1, -1, -1, -1]\n",
    "    weights = np.zeros(len(points1[0]))\n",
    "    print(weights)\n",
    "\n",
    "    for _ in range(1000):\n",
    "        misclassified = False\n",
    "\n",
    "        for i, point in enumerate(points1):\n",
    "            if np.dot(point, weights) * labels[i] <= 0:\n",
    "                weights += labels[i] * point\n",
    "                misclassified = True\n",
    "                print(weights)\n",
    "\n",
    "        if not misclassified:\n",
    "            return True\n",
    "\n",
    "points1 = [np.array([-1, -1, -1]), np.array([-1, -1, 1]), np.array([-1, 1, -1]),\n",
    "           np.array([-1, 1, 1]), np.array([1, -1, -1]), np.array([1, -1, 1]),\n",
    "          np.array([1, 1, -1]), np.array([1, 1, 1])]\n",
    "\n",
    "if is_linearly_separable(points1):\n",
    "    print(\"The binary classification problem is linearly separable.\")\n",
    "else:\n",
    "    print(\"The binary classification problem is not linearly separable.\")\n"
   ]
  }
 ],
 "metadata": {
  "kernelspec": {
   "display_name": "Python 3 (ipykernel)",
   "language": "python",
   "name": "python3"
  },
  "language_info": {
   "codemirror_mode": {
    "name": "ipython",
    "version": 3
   },
   "file_extension": ".py",
   "mimetype": "text/x-python",
   "name": "python",
   "nbconvert_exporter": "python",
   "pygments_lexer": "ipython3",
   "version": "3.9.18"
  }
 },
 "nbformat": 4,
 "nbformat_minor": 5
}
